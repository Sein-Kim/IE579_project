{
 "cells": [
  {
   "cell_type": "code",
   "execution_count": 1,
   "metadata": {},
   "outputs": [],
   "source": [
    "import torch\n",
    "import torch.nn as nn\n",
    "import torch.nn.functional as F"
   ]
  },
  {
   "cell_type": "code",
   "execution_count": 96,
   "metadata": {},
   "outputs": [],
   "source": [
    "\n",
    "class multi_head(nn.Module):\n",
    "    def __init__(self):\n",
    "        super(multi_head, self).__init__()\n",
    "        self.A = nn.ModuleList([nn.Linear(32, 1) for _ in range(2)])\n",
    "        self.weight_init()\n",
    "\n",
    "    def weight_init(self):\n",
    "        for i in range(2):\n",
    "            nn.init.xavier_normal_(self.A[i].weight)\n",
    "            self.A[i].bias.data.fill_(0.0)\n",
    "    \n",
    "    def attn_summary(self, features):\n",
    "        features_attn = []\n",
    "        k = features[0].shape[0]\n",
    "        for i in range(2):\n",
    "            features_attn.append((self.A[i](features[i].squeeze())))\n",
    "        features_attn = F.softmax(torch.cat(features_attn), dim=-1).unsqueeze(1)\n",
    "        features = torch.cat(features)\n",
    "        features = (features * features)\n",
    "        \n",
    "        # k = features[i].shape[0]\n",
    "        print(k)\n",
    "        features = torch.cat((features[:k],features[k:]),axis=1)\n",
    "        \n",
    "        print(features.shape)\n",
    "        print(features)\n",
    "        # features = features.reshape(-1,64)\n",
    "        return features, features_attn\n",
    "\n",
    "# transposed_tensor = input_tensor.transpose(0, 1)\n",
    "\n",
    "# # Repeat each row of the transposed tensor\n",
    "# output_tensor = transposed_tensor.unsqueeze(1).expand(-1, len(input_tensor), -1).reshape(-1, len(input_tensor[0]))\n",
    "\n",
    "# print(output_tensor)\n",
    "\n",
    "\n",
    "    def forward(self,x):\n",
    "        # x1,x2,x3,x4 = x[:,:16], x[:,16:32], x[:,32:48], x[:,48:]\n",
    "        x1,x2 = x[:,:32], x[:,32:]\n",
    "\n",
    "        # results = self.attn_summary([x1,x2,x3,x4])\n",
    "        results = self.attn_summary([x1,x2])\n",
    "\n",
    "        return results\n",
    "        \n",
    "    "
   ]
  },
  {
   "cell_type": "code",
   "execution_count": 98,
   "metadata": {},
   "outputs": [],
   "source": [
    "\n",
    "class Residual(nn.Module):\n",
    "    def __init__(self):\n",
    "        super(Residual,self).__init__()\n",
    "        self.mlp1 = nn.Linear(64,64)\n",
    "        self.mlp2 = nn.Linear(64,32)\n",
    "        self.mlp3 = nn.Linear(32,16)\n",
    "        self.mlp4 = nn.Linear(16,32)\n",
    "        self.mlp5 = nn.Linear(32,64)\n",
    "        self.act = nn.Tanh()\n",
    "    def forward(self, features):\n",
    "        x1 = self.mlp1(features)\n",
    "        x1 = self.act(x1)\n",
    "        \n",
    "        x1 = self.mlp2(features)\n",
    "        x1 = self.act(x1)\n",
    "        x1 = self.mlp3(features)\n",
    "        x1 = self.act(x1)\n",
    "        \n",
    "        x1 = self.mlp4(features)\n",
    "        x1 = self.act(x1)\n",
    "        \n",
    "        x1 = self.mlp5(features)\n",
    "        x1 = x1 + features\n",
    "        \n",
    "        x1 = self.act(x1)\n",
    "        return x1"
   ]
  },
  {
   "cell_type": "code",
   "execution_count": 99,
   "metadata": {},
   "outputs": [
    {
     "ename": "RuntimeError",
     "evalue": "mat1 and mat2 shapes cannot be multiplied (5x64 and 32x16)",
     "output_type": "error",
     "traceback": [
      "\u001b[0;31m---------------------------------------------------------------------------\u001b[0m",
      "\u001b[0;31mRuntimeError\u001b[0m                              Traceback (most recent call last)",
      "\u001b[1;32m/home/users/kimsein/Homework/MAgent/testing.ipynb Cell 4\u001b[0m line \u001b[0;36m<cell line: 5>\u001b[0;34m()\u001b[0m\n\u001b[1;32m      <a href='vscode-notebook-cell://ssh-remote%2Bserver198-1/home/users/kimsein/Homework/MAgent/testing.ipynb#W3sdnNjb2RlLXJlbW90ZQ%3D%3D?line=0'>1</a>\u001b[0m a \u001b[39m=\u001b[39m Residual()\n\u001b[1;32m      <a href='vscode-notebook-cell://ssh-remote%2Bserver198-1/home/users/kimsein/Homework/MAgent/testing.ipynb#W3sdnNjb2RlLXJlbW90ZQ%3D%3D?line=2'>3</a>\u001b[0m b \u001b[39m=\u001b[39m torch\u001b[39m.\u001b[39mFloatTensor([[i \u001b[39mfor\u001b[39;00m i \u001b[39min\u001b[39;00m \u001b[39mrange\u001b[39m(\u001b[39m64\u001b[39m)] \u001b[39mfor\u001b[39;00m j \u001b[39min\u001b[39;00m \u001b[39mrange\u001b[39m(\u001b[39m5\u001b[39m)])\n\u001b[0;32m----> <a href='vscode-notebook-cell://ssh-remote%2Bserver198-1/home/users/kimsein/Homework/MAgent/testing.ipynb#W3sdnNjb2RlLXJlbW90ZQ%3D%3D?line=4'>5</a>\u001b[0m aa \u001b[39m=\u001b[39m a(b)\n",
      "File \u001b[0;32m~/.conda/envs/grass2/lib/python3.9/site-packages/torch/nn/modules/module.py:1102\u001b[0m, in \u001b[0;36mModule._call_impl\u001b[0;34m(self, *input, **kwargs)\u001b[0m\n\u001b[1;32m   1098\u001b[0m \u001b[39m# If we don't have any hooks, we want to skip the rest of the logic in\u001b[39;00m\n\u001b[1;32m   1099\u001b[0m \u001b[39m# this function, and just call forward.\u001b[39;00m\n\u001b[1;32m   1100\u001b[0m \u001b[39mif\u001b[39;00m \u001b[39mnot\u001b[39;00m (\u001b[39mself\u001b[39m\u001b[39m.\u001b[39m_backward_hooks \u001b[39mor\u001b[39;00m \u001b[39mself\u001b[39m\u001b[39m.\u001b[39m_forward_hooks \u001b[39mor\u001b[39;00m \u001b[39mself\u001b[39m\u001b[39m.\u001b[39m_forward_pre_hooks \u001b[39mor\u001b[39;00m _global_backward_hooks\n\u001b[1;32m   1101\u001b[0m         \u001b[39mor\u001b[39;00m _global_forward_hooks \u001b[39mor\u001b[39;00m _global_forward_pre_hooks):\n\u001b[0;32m-> 1102\u001b[0m     \u001b[39mreturn\u001b[39;00m forward_call(\u001b[39m*\u001b[39;49m\u001b[39minput\u001b[39;49m, \u001b[39m*\u001b[39;49m\u001b[39m*\u001b[39;49mkwargs)\n\u001b[1;32m   1103\u001b[0m \u001b[39m# Do not call functions when jit is used\u001b[39;00m\n\u001b[1;32m   1104\u001b[0m full_backward_hooks, non_full_backward_hooks \u001b[39m=\u001b[39m [], []\n",
      "\u001b[1;32m/home/users/kimsein/Homework/MAgent/testing.ipynb Cell 4\u001b[0m line \u001b[0;36mResidual.forward\u001b[0;34m(self, features)\u001b[0m\n\u001b[1;32m     <a href='vscode-notebook-cell://ssh-remote%2Bserver198-1/home/users/kimsein/Homework/MAgent/testing.ipynb#W3sdnNjb2RlLXJlbW90ZQ%3D%3D?line=13'>14</a>\u001b[0m x1 \u001b[39m=\u001b[39m \u001b[39mself\u001b[39m\u001b[39m.\u001b[39mmlp2(features)\n\u001b[1;32m     <a href='vscode-notebook-cell://ssh-remote%2Bserver198-1/home/users/kimsein/Homework/MAgent/testing.ipynb#W3sdnNjb2RlLXJlbW90ZQ%3D%3D?line=14'>15</a>\u001b[0m x1 \u001b[39m=\u001b[39m \u001b[39mself\u001b[39m\u001b[39m.\u001b[39mact(x1)\n\u001b[0;32m---> <a href='vscode-notebook-cell://ssh-remote%2Bserver198-1/home/users/kimsein/Homework/MAgent/testing.ipynb#W3sdnNjb2RlLXJlbW90ZQ%3D%3D?line=16'>17</a>\u001b[0m x1 \u001b[39m=\u001b[39m \u001b[39mself\u001b[39;49m\u001b[39m.\u001b[39;49mmlp3(features)\n\u001b[1;32m     <a href='vscode-notebook-cell://ssh-remote%2Bserver198-1/home/users/kimsein/Homework/MAgent/testing.ipynb#W3sdnNjb2RlLXJlbW90ZQ%3D%3D?line=17'>18</a>\u001b[0m x1 \u001b[39m=\u001b[39m \u001b[39mself\u001b[39m\u001b[39m.\u001b[39mact(x1)\n\u001b[1;32m     <a href='vscode-notebook-cell://ssh-remote%2Bserver198-1/home/users/kimsein/Homework/MAgent/testing.ipynb#W3sdnNjb2RlLXJlbW90ZQ%3D%3D?line=19'>20</a>\u001b[0m x1 \u001b[39m=\u001b[39m \u001b[39mself\u001b[39m\u001b[39m.\u001b[39mmlp4(features)\n",
      "File \u001b[0;32m~/.conda/envs/grass2/lib/python3.9/site-packages/torch/nn/modules/module.py:1102\u001b[0m, in \u001b[0;36mModule._call_impl\u001b[0;34m(self, *input, **kwargs)\u001b[0m\n\u001b[1;32m   1098\u001b[0m \u001b[39m# If we don't have any hooks, we want to skip the rest of the logic in\u001b[39;00m\n\u001b[1;32m   1099\u001b[0m \u001b[39m# this function, and just call forward.\u001b[39;00m\n\u001b[1;32m   1100\u001b[0m \u001b[39mif\u001b[39;00m \u001b[39mnot\u001b[39;00m (\u001b[39mself\u001b[39m\u001b[39m.\u001b[39m_backward_hooks \u001b[39mor\u001b[39;00m \u001b[39mself\u001b[39m\u001b[39m.\u001b[39m_forward_hooks \u001b[39mor\u001b[39;00m \u001b[39mself\u001b[39m\u001b[39m.\u001b[39m_forward_pre_hooks \u001b[39mor\u001b[39;00m _global_backward_hooks\n\u001b[1;32m   1101\u001b[0m         \u001b[39mor\u001b[39;00m _global_forward_hooks \u001b[39mor\u001b[39;00m _global_forward_pre_hooks):\n\u001b[0;32m-> 1102\u001b[0m     \u001b[39mreturn\u001b[39;00m forward_call(\u001b[39m*\u001b[39;49m\u001b[39minput\u001b[39;49m, \u001b[39m*\u001b[39;49m\u001b[39m*\u001b[39;49mkwargs)\n\u001b[1;32m   1103\u001b[0m \u001b[39m# Do not call functions when jit is used\u001b[39;00m\n\u001b[1;32m   1104\u001b[0m full_backward_hooks, non_full_backward_hooks \u001b[39m=\u001b[39m [], []\n",
      "File \u001b[0;32m~/.conda/envs/grass2/lib/python3.9/site-packages/torch/nn/modules/linear.py:103\u001b[0m, in \u001b[0;36mLinear.forward\u001b[0;34m(self, input)\u001b[0m\n\u001b[1;32m    102\u001b[0m \u001b[39mdef\u001b[39;00m \u001b[39mforward\u001b[39m(\u001b[39mself\u001b[39m, \u001b[39minput\u001b[39m: Tensor) \u001b[39m-\u001b[39m\u001b[39m>\u001b[39m Tensor:\n\u001b[0;32m--> 103\u001b[0m     \u001b[39mreturn\u001b[39;00m F\u001b[39m.\u001b[39;49mlinear(\u001b[39minput\u001b[39;49m, \u001b[39mself\u001b[39;49m\u001b[39m.\u001b[39;49mweight, \u001b[39mself\u001b[39;49m\u001b[39m.\u001b[39;49mbias)\n",
      "File \u001b[0;32m~/.conda/envs/grass2/lib/python3.9/site-packages/torch/nn/functional.py:1848\u001b[0m, in \u001b[0;36mlinear\u001b[0;34m(input, weight, bias)\u001b[0m\n\u001b[1;32m   1846\u001b[0m \u001b[39mif\u001b[39;00m has_torch_function_variadic(\u001b[39minput\u001b[39m, weight, bias):\n\u001b[1;32m   1847\u001b[0m     \u001b[39mreturn\u001b[39;00m handle_torch_function(linear, (\u001b[39minput\u001b[39m, weight, bias), \u001b[39minput\u001b[39m, weight, bias\u001b[39m=\u001b[39mbias)\n\u001b[0;32m-> 1848\u001b[0m \u001b[39mreturn\u001b[39;00m torch\u001b[39m.\u001b[39;49m_C\u001b[39m.\u001b[39;49m_nn\u001b[39m.\u001b[39;49mlinear(\u001b[39minput\u001b[39;49m, weight, bias)\n",
      "\u001b[0;31mRuntimeError\u001b[0m: mat1 and mat2 shapes cannot be multiplied (5x64 and 32x16)"
     ]
    }
   ],
   "source": [
    "a = Residual()\n",
    "\n",
    "b = torch.FloatTensor([[i for i in range(64)] for j in range(5)])\n",
    "\n",
    "aa = a(b)\n",
    "# print(b.shape)\n",
    "# print(aa.shape)\n",
    "# aa"
   ]
  }
 ],
 "metadata": {
  "kernelspec": {
   "display_name": "grass2",
   "language": "python",
   "name": "python3"
  },
  "language_info": {
   "codemirror_mode": {
    "name": "ipython",
    "version": 3
   },
   "file_extension": ".py",
   "mimetype": "text/x-python",
   "name": "python",
   "nbconvert_exporter": "python",
   "pygments_lexer": "ipython3",
   "version": "3.9.7"
  }
 },
 "nbformat": 4,
 "nbformat_minor": 2
}
